{
  "nbformat": 4,
  "nbformat_minor": 0,
  "metadata": {
    "colab": {
      "name": "JSC270_Assignment2.ipynb",
      "provenance": [],
      "collapsed_sections": [],
      "include_colab_link": true
    },
    "kernelspec": {
      "name": "python3",
      "display_name": "Python 3"
    }
  },
  "cells": [
    {
      "cell_type": "markdown",
      "metadata": {
        "id": "view-in-github",
        "colab_type": "text"
      },
      "source": [
        "<a href=\"https://colab.research.google.com/github/Tiffany0410/JSC270_Assg2/blob/main/JSC270_Assignment2.ipynb\" target=\"_parent\"><img src=\"https://colab.research.google.com/assets/colab-badge.svg\" alt=\"Open In Colab\"/></a>"
      ]
    },
    {
      "cell_type": "markdown",
      "metadata": {
        "id": "Dx3JcBg8VZ-a"
      },
      "source": [
        "###Libraries you'll likely need"
      ]
    },
    {
      "cell_type": "code",
      "metadata": {
        "id": "3I79uCwE3Sq8",
        "colab": {
          "base_uri": "https://localhost:8080/"
        },
        "outputId": "6d1154a3-1ccf-4635-e7bf-202943b8c18b"
      },
      "source": [
        "import pandas as pd\r\n",
        "import numpy as np\r\n",
        "import matplotlib.pyplot as plt\r\n",
        "import seaborn as sns\r\n",
        "from scipy import stats\r\n",
        "import statsmodels.api as sm\r\n",
        "import statsmodels.formula.api as smf"
      ],
      "execution_count": 3,
      "outputs": [
        {
          "output_type": "stream",
          "text": [
            "/usr/local/lib/python3.6/dist-packages/statsmodels/tools/_testing.py:19: FutureWarning: pandas.util.testing is deprecated. Use the functions in the public API at pandas.testing instead.\n",
            "  import pandas.util.testing as tm\n"
          ],
          "name": "stderr"
        }
      ]
    },
    {
      "cell_type": "markdown",
      "metadata": {
        "id": "9U0oB7HfVZ3g"
      },
      "source": [
        ""
      ]
    },
    {
      "cell_type": "markdown",
      "metadata": {
        "id": "X0oR7u9m-wO6"
      },
      "source": [
        "###Importing data"
      ]
    },
    {
      "cell_type": "code",
      "metadata": {
        "id": "f3jscp2H3Yqm"
      },
      "source": [
        "income94 = pd.read_csv('https://archive.ics.uci.edu/ml/machine-learning-databases/adult/adult.data', header=None)\r\n",
        "income94.columns = ['age','workclass', 'fnlwgt','education','education_num','marital_status','occupation',\r\n",
        "                    'relationship','race','sex','capital_gain','capital_loss','hours_per_week','native_country','gross_income_group']"
      ],
      "execution_count": 4,
      "outputs": []
    },
    {
      "cell_type": "markdown",
      "metadata": {
        "id": "4mTl9dutQYix"
      },
      "source": [
        "# Initial data exploration"
      ]
    },
    {
      "cell_type": "markdown",
      "metadata": {
        "id": "U-KzpNmXo6gC"
      },
      "source": [
        "**Q1)**"
      ]
    },
    {
      "cell_type": "code",
      "metadata": {
        "id": "PkQRq4OQQhvv",
        "colab": {
          "base_uri": "https://localhost:8080/"
        },
        "outputId": "b40e6a0d-0013-4670-e50f-59f392cdb8a0"
      },
      "source": [
        "# Q1: Checking data types\n",
        "income94.info()"
      ],
      "execution_count": 5,
      "outputs": [
        {
          "output_type": "stream",
          "text": [
            "<class 'pandas.core.frame.DataFrame'>\n",
            "RangeIndex: 32561 entries, 0 to 32560\n",
            "Data columns (total 15 columns):\n",
            " #   Column              Non-Null Count  Dtype \n",
            "---  ------              --------------  ----- \n",
            " 0   age                 32561 non-null  int64 \n",
            " 1   workclass           32561 non-null  object\n",
            " 2   fnlwgt              32561 non-null  int64 \n",
            " 3   education           32561 non-null  object\n",
            " 4   education_num       32561 non-null  int64 \n",
            " 5   marital_status      32561 non-null  object\n",
            " 6   occupation          32561 non-null  object\n",
            " 7   relationship        32561 non-null  object\n",
            " 8   race                32561 non-null  object\n",
            " 9   sex                 32561 non-null  object\n",
            " 10  capital_gain        32561 non-null  int64 \n",
            " 11  capital_loss        32561 non-null  int64 \n",
            " 12  hours_per_week      32561 non-null  int64 \n",
            " 13  native_country      32561 non-null  object\n",
            " 14  gross_income_group  32561 non-null  object\n",
            "dtypes: int64(6), object(9)\n",
            "memory usage: 3.7+ MB\n"
          ],
          "name": "stdout"
        }
      ]
    },
    {
      "cell_type": "markdown",
      "metadata": {
        "id": "YXjY-8LARI05"
      },
      "source": [
        "**Q1: Check the columns of your data. Are they the expected data types based on their descriptions in ​this text file description of the data​?**\n",
        "\n",
        "A: Using income94.info(), we can see that the columns _age, fnlwgt, education_num, capital_gain, capital_loss, hours_per_week_ are int64 type, however, in the text file description, they are stated as continuous data type."
      ]
    },
    {
      "cell_type": "markdown",
      "metadata": {
        "id": "HA3QYOSOpBWk"
      },
      "source": [
        "**Q2)**"
      ]
    },
    {
      "cell_type": "code",
      "metadata": {
        "id": "odDCOwb6q9cF"
      },
      "source": [
        "# Q2: Replacing missing values\n",
        "income94.value_counts()\n",
        "income94 = income94.replace(\" ?\", np.nan)"
      ],
      "execution_count": 6,
      "outputs": []
    },
    {
      "cell_type": "code",
      "metadata": {
        "id": "zwJs9aWFrKH1",
        "colab": {
          "base_uri": "https://localhost:8080/"
        },
        "outputId": "89703197-b6df-4fd8-a2ae-33cac1b1142b"
      },
      "source": [
        "# Count the number of missing values\n",
        "income94.isnull().sum()"
      ],
      "execution_count": 7,
      "outputs": [
        {
          "output_type": "execute_result",
          "data": {
            "text/plain": [
              "age                      0\n",
              "workclass             1836\n",
              "fnlwgt                   0\n",
              "education                0\n",
              "education_num            0\n",
              "marital_status           0\n",
              "occupation            1843\n",
              "relationship             0\n",
              "race                     0\n",
              "sex                      0\n",
              "capital_gain             0\n",
              "capital_loss             0\n",
              "hours_per_week           0\n",
              "native_country         583\n",
              "gross_income_group       0\n",
              "dtype: int64"
            ]
          },
          "metadata": {
            "tags": []
          },
          "execution_count": 7
        }
      ]
    },
    {
      "cell_type": "markdown",
      "metadata": {
        "id": "0cZGR7xXSSrn"
      },
      "source": [
        "**Q2: How are missing values represented in this data? Cast any misspecified variables to a different data type or assert that they are and set missing characters to np.nan. Count the number of missing values in each column.**\n",
        "\n",
        "A: The missing values are represented as \"?\" in this data. There are 1836 missing data for colume _workclass_, 1843 missing data for _occupation_ and 583 missing data for _native_country_. Other columns have 0 missing data."
      ]
    },
    {
      "cell_type": "markdown",
      "metadata": {
        "id": "jiIxnqbjpIII"
      },
      "source": [
        "**Q3)**"
      ]
    },
    {
      "cell_type": "code",
      "metadata": {
        "id": "YGI1Rz6cfFDM",
        "colab": {
          "base_uri": "https://localhost:8080/",
          "height": 295
        },
        "outputId": "fae84ddf-7259-49c0-b852-e7501df96834"
      },
      "source": [
        "# Q3: Distribution of capital_gain\n",
        "plt.hist(income94.capital_gain)\n",
        "plt.title('Histogram of Capital Gain')\n",
        "plt.xlabel('Capital gain')\n",
        "plt.ylabel('Number of individual')\n",
        "plt.show()"
      ],
      "execution_count": 8,
      "outputs": [
        {
          "output_type": "display_data",
          "data": {
            "image/png": "[encoded data removed]",
            "text/plain": [
              "<Figure size 432x288 with 1 Axes>"
            ]
          },
          "metadata": {
            "tags": [],
            "needs_background": "light"
          }
        }
      ]
    },
    {
      "cell_type": "code",
      "metadata": {
        "id": "LprJY9VYjPjY",
        "colab": {
          "base_uri": "https://localhost:8080/",
          "height": 295
        },
        "outputId": "d2c9a6e3-632d-42a7-f291-58dcba5fc12c"
      },
      "source": [
        "# Q3: Distribution of capital_loss\n",
        "plt.hist(income94.capital_loss)\n",
        "plt.title('Histogram of Capital Loss')\n",
        "plt.xlabel('Capital loss')\n",
        "plt.ylabel('Number of individual')\n",
        "plt.show()"
      ],
      "execution_count": 9,
      "outputs": [
        {
          "output_type": "display_data",
          "data": {
            "image/png": "[encoded data removed]",
            "text/plain": [
              "<Figure size 432x288 with 1 Axes>"
            ]
          },
          "metadata": {
            "tags": [],
            "needs_background": "light"
          }
        }
      ]
    },
    {
      "cell_type": "code",
      "metadata": {
        "id": "K264lXz4jpa0",
        "colab": {
          "base_uri": "https://localhost:8080/",
          "height": 295
        },
        "outputId": "ce552977-350f-4a25-db8a-60d75bc4f710"
      },
      "source": [
        "# Logged capital gain\n",
        "gain = income94[income94.capital_gain > 0]\n",
        "plt.hist(np.log(gain.capital_gain))\n",
        "plt.title('Histogram of Logged Capital Gain')\n",
        "plt.xlabel('Logged Capital gain')\n",
        "plt.ylabel('Number of individual')\n",
        "plt.show()"
      ],
      "execution_count": 10,
      "outputs": [
        {
          "output_type": "display_data",
          "data": {
            "image/png": "[encoded data removed]",
            "text/plain": [
              "<Figure size 432x288 with 1 Axes>"
            ]
          },
          "metadata": {
            "tags": [],
            "needs_background": "light"
          }
        }
      ]
    },
    {
      "cell_type": "code",
      "metadata": {
        "id": "AivglkV_9jWL",
        "colab": {
          "base_uri": "https://localhost:8080/",
          "height": 295
        },
        "outputId": "6faa4c31-38ba-4787-d105-0af21e38c146"
      },
      "source": [
        "# Logged capital loss\n",
        "loss = income94[income94.capital_loss > 0]\n",
        "plt.hist(np.log(loss.capital_loss))\n",
        "plt.title('Histogram of Logged Capital Loss')\n",
        "plt.xlabel('Logged Capital loss')\n",
        "plt.ylabel('Number of individual')\n",
        "plt.show()"
      ],
      "execution_count": 11,
      "outputs": [
        {
          "output_type": "display_data",
          "data": {
            "image/png": "[encoded data removed]",
            "text/plain": [
              "<Figure size 432x288 with 1 Axes>"
            ]
          },
          "metadata": {
            "tags": [],
            "needs_background": "light"
          }
        }
      ]
    },
    {
      "cell_type": "markdown",
      "metadata": {
        "id": "INjSMl2wfI28"
      },
      "source": [
        "**Q3: Individually plot the distributions of ​capital_gain​ and ​capital_loss​. Should these variables be transformed? Why/why not? If yes, create a new variable for either that should be transformed and plot or describe in a table the distribution of the new categorical variable.**\n",
        "\n",
        "A: These variables should be transformed into log capital gain/loss since a log-transformation would remove or reduce the skewness of the data and provides better interpretation. Also, there is a huge number of zeros, which makes the graph heavily right-skewed and could not perform log-transformation on the zeros, therefore, I decided to remove all zeros and perform log-transformation on the remaining data."
      ]
    },
    {
      "cell_type": "markdown",
      "metadata": {
        "id": "LytZhTh-pL03"
      },
      "source": [
        "**Q4)**"
      ]
    },
    {
      "cell_type": "code",
      "metadata": {
        "colab": {
          "base_uri": "https://localhost:8080/",
          "height": 295
        },
        "id": "jYa9PCVRQPsv",
        "outputId": "6511ea60-47a3-4882-a923-7be8f2e7dfa4"
      },
      "source": [
        "# Q4: Exploring weight\n",
        "plt.hist(income94.fnlwgt, bins = 30)\n",
        "plt.title('Histogram of Weights')\n",
        "plt.xlabel('Weights')\n",
        "plt.ylabel('Number of individual')\n",
        "plt.show()"
      ],
      "execution_count": 12,
      "outputs": [
        {
          "output_type": "display_data",
          "data": {
            "image/png": "[encoded data removed]",
            "text/plain": [
              "<Figure size 432x288 with 1 Axes>"
            ]
          },
          "metadata": {
            "tags": [],
            "needs_background": "light"
          }
        }
      ]
    },
    {
      "cell_type": "code",
      "metadata": {
        "colab": {
          "base_uri": "https://localhost:8080/"
        },
        "id": "JP0MSTHglLFQ",
        "outputId": "4fc59970-0fe2-4523-f44d-18c0d583d15e"
      },
      "source": [
        "# Find mean and median\n",
        "info = [income94.fnlwgt.mean(), income94.fnlwgt.median()]\n",
        "info"
      ],
      "execution_count": 13,
      "outputs": [
        {
          "output_type": "execute_result",
          "data": {
            "text/plain": [
              "[189778.36651208502, 178356.0]"
            ]
          },
          "metadata": {
            "tags": []
          },
          "execution_count": 13
        }
      ]
    },
    {
      "cell_type": "code",
      "metadata": {
        "colab": {
          "base_uri": "https://localhost:8080/",
          "height": 312
        },
        "id": "jG4pkpNdnqrV",
        "outputId": "ec4b3c59-b8f7-43ac-ca06-c5d8c715cd01"
      },
      "source": [
        "# weights for women\n",
        "income94.head()\n",
        "women = income94[income94.sex==' Female']\n",
        "plt.hist(women.fnlwgt, bins = 30)\n",
        "plt.title('Histogram of Weights of Women')\n",
        "plt.xlabel('Weights')\n",
        "plt.ylabel('Number of individual')\n",
        "plt.show()\n",
        "info = [women.fnlwgt.mean(), women.fnlwgt.median()]\n",
        "info"
      ],
      "execution_count": 14,
      "outputs": [
        {
          "output_type": "display_data",
          "data": {
            "image/png": "[encoded data removed]",
            "text/plain": [
              "<Figure size 432x288 with 1 Axes>"
            ]
          },
          "metadata": {
            "tags": [],
            "needs_background": "light"
          }
        },
        {
          "output_type": "execute_result",
          "data": {
            "text/plain": [
              "[185746.31120601617, 176077.0]"
            ]
          },
          "metadata": {
            "tags": []
          },
          "execution_count": 14
        }
      ]
    },
    {
      "cell_type": "code",
      "metadata": {
        "colab": {
          "base_uri": "https://localhost:8080/",
          "height": 312
        },
        "id": "eSbWA-PKob8Q",
        "outputId": "97e42811-bcde-49f0-d528-1756ecd19032"
      },
      "source": [
        "# weights for men\n",
        "income94.head()\n",
        "men = income94[income94.sex==' Male']\n",
        "plt.hist(men.fnlwgt, bins = 30)\n",
        "plt.title('Histogram of Weights of Men')\n",
        "plt.xlabel('Weights')\n",
        "plt.ylabel('Number of individual')\n",
        "plt.show()\n",
        "info = [men.fnlwgt.mean(), men.fnlwgt.median()]\n",
        "info"
      ],
      "execution_count": 15,
      "outputs": [
        {
          "output_type": "display_data",
          "data": {
            "image/png": "[encoded data removed]",
            "text/plain": [
              "<Figure size 432x288 with 1 Axes>"
            ]
          },
          "metadata": {
            "tags": [],
            "needs_background": "light"
          }
        },
        {
          "output_type": "execute_result",
          "data": {
            "text/plain": [
              "[191771.44901330885, 180140.0]"
            ]
          },
          "metadata": {
            "tags": []
          },
          "execution_count": 15
        }
      ]
    },
    {
      "cell_type": "code",
      "metadata": {
        "colab": {
          "base_uri": "https://localhost:8080/",
          "height": 295
        },
        "id": "MTiSsmtwt0xY",
        "outputId": "845fb439-a05f-4c18-9842-d61cd70c0fb9"
      },
      "source": [
        "# Identify Outliers\n",
        "sns.boxplot(x = 'fnlwgt', data = income94)\n",
        "plt.xlabel('weight')\n",
        "plt.title('Box and Whiskers Plot of Weights')\n",
        "plt.show()"
      ],
      "execution_count": 16,
      "outputs": [
        {
          "output_type": "display_data",
          "data": {
            "image/png": "[encoded data removed]",
            "text/plain": [
              "<Figure size 432x288 with 1 Axes>"
            ]
          },
          "metadata": {
            "tags": [],
            "needs_background": "light"
          }
        }
      ]
    },
    {
      "cell_type": "code",
      "metadata": {
        "id": "-qsqPdOMxF1f"
      },
      "source": [
        "# Set extreme outliers in the range of 1200000-1400000 to missing\n",
        "income94 = income94.replace(income94.fnlwgt<1200000, np.nan)"
      ],
      "execution_count": 17,
      "outputs": []
    },
    {
      "cell_type": "markdown",
      "metadata": {
        "id": "vRduUJjKlubj"
      },
      "source": [
        "**Q4: This data is census data and therefore used to estimate finite population means using sampling. The weights here indicate the share of the population that sample represents based on location and, sometimes, other factors. You can read more about the weights in the paper linked in ​this text file description of the data​. Plot or numerically explore the distribution of fnlwgt. Is this data symmetrically distributed? Compare the distribution of this variable between men and women and comment on any trends you notice. Should outliers be excluded? If you think yes, set the fnlwgt values for those you deem to be outliers as missing for the remainder of your analyses.**\n",
        "\n",
        "A: From the plot and numerical information, it suggests that the distribution of data is skewed to the right since the median is less than the mean. The mean and median weights for men are slightly higher than women's, however, the mode are the same for both men and women suggested by the plot. From the box and whiskers plot, it shows that the outliers are data that have weight larger than 400000, but I think we should include the outliers that are in the range of 400000-1000000 since there are many outliers cluster around that range which may suggest that the data are usual. On the other hand, I think we should exclude the extreme outliers that are in the range of 1200000-1400000 since they are unusual values in the dataset, and they might distort statistical analyses."
      ]
    },
    {
      "cell_type": "markdown",
      "metadata": {
        "id": "jl4iLsJDx12r"
      },
      "source": [
        "# Correlation"
      ]
    },
    {
      "cell_type": "code",
      "metadata": {
        "id": "JDYjCr2zyOEa",
        "colab": {
          "base_uri": "https://localhost:8080/",
          "height": 142
        },
        "outputId": "16a1af4b-4171-47aa-88d9-cf97606cf2a3"
      },
      "source": [
        "# Find the correlations between age, education_num, and hours_per_week\n",
        "corr = income94[['age', 'education_num', 'hours_per_week']].corr()\n",
        "corr"
      ],
      "execution_count": 32,
      "outputs": [
        {
          "output_type": "execute_result",
          "data": {
            "text/html": [
              "<div>\n",
              "<style scoped>\n",
              "    .dataframe tbody tr th:only-of-type {\n",
              "        vertical-align: middle;\n",
              "    }\n",
              "\n",
              "    .dataframe tbody tr th {\n",
              "        vertical-align: top;\n",
              "    }\n",
              "\n",
              "    .dataframe thead th {\n",
              "        text-align: right;\n",
              "    }\n",
              "</style>\n",
              "<table border=\"1\" class=\"dataframe\">\n",
              "  <thead>\n",
              "    <tr style=\"text-align: right;\">\n",
              "      <th></th>\n",
              "      <th>age</th>\n",
              "      <th>education_num</th>\n",
              "      <th>hours_per_week</th>\n",
              "    </tr>\n",
              "  </thead>\n",
              "  <tbody>\n",
              "    <tr>\n",
              "      <th>age</th>\n",
              "      <td>1.000000</td>\n",
              "      <td>0.036527</td>\n",
              "      <td>0.068756</td>\n",
              "    </tr>\n",
              "    <tr>\n",
              "      <th>education_num</th>\n",
              "      <td>0.036527</td>\n",
              "      <td>1.000000</td>\n",
              "      <td>0.148123</td>\n",
              "    </tr>\n",
              "    <tr>\n",
              "      <th>hours_per_week</th>\n",
              "      <td>0.068756</td>\n",
              "      <td>0.148123</td>\n",
              "      <td>1.000000</td>\n",
              "    </tr>\n",
              "  </tbody>\n",
              "</table>\n",
              "</div>"
            ],
            "text/plain": [
              "                     age  education_num  hours_per_week\n",
              "age             1.000000       0.036527        0.068756\n",
              "education_num   0.036527       1.000000        0.148123\n",
              "hours_per_week  0.068756       0.148123        1.000000"
            ]
          },
          "metadata": {
            "tags": []
          },
          "execution_count": 32
        }
      ]
    },
    {
      "cell_type": "markdown",
      "metadata": {
        "id": "6F8j-WOwyE6m"
      },
      "source": [
        "**\ba) Do any of the variables appear to be correlated?**\n",
        "\n",
        "A: From the correlation table, we see that variance in *age* explains around 3.65% of variance in *education_num*, variance in *age* explains around 6.88% of variance in *hours_per_week*, and variance in *education_num* explains around 14.81% of variance in *hours_per_week*.\n",
        "Therefore, variables *education_num* and *hours_per_week* appear to be more correlated."
      ]
    },
    {
      "cell_type": "code",
      "metadata": {
        "colab": {
          "base_uri": "https://localhost:8080/"
        },
        "id": "OPjKEVqKzzJK",
        "outputId": "68731d15-0a43-4466-ebac-eac57ece5fde"
      },
      "source": [
        "reg = smf.ols('education_num ~ hours_per_week', data = income94).fit()\n",
        "print(reg.summary())"
      ],
      "execution_count": 40,
      "outputs": [
        {
          "output_type": "stream",
          "text": [
            "                            OLS Regression Results                            \n",
            "==============================================================================\n",
            "Dep. Variable:          education_num   R-squared:                       0.022\n",
            "Model:                            OLS   Adj. R-squared:                  0.022\n",
            "Method:                 Least Squares   F-statistic:                     730.4\n",
            "Date:                Sun, 07 Feb 2021   Prob (F-statistic):          4.24e-159\n",
            "Time:                        23:42:54   Log-Likelihood:                -76609.\n",
            "No. Observations:               32561   AIC:                         1.532e+05\n",
            "Df Residuals:                   32559   BIC:                         1.532e+05\n",
            "Df Model:                           1                                         \n",
            "Covariance Type:            nonrobust                                         \n",
            "==================================================================================\n",
            "                     coef    std err          t      P>|t|      [0.025      0.975]\n",
            "----------------------------------------------------------------------------------\n",
            "Intercept          8.8327      0.048    182.931      0.000       8.738       8.927\n",
            "hours_per_week     0.0309      0.001     27.026      0.000       0.029       0.033\n",
            "==============================================================================\n",
            "Omnibus:                      963.317   Durbin-Watson:                   1.995\n",
            "Prob(Omnibus):                  0.000   Jarque-Bera (JB):             1259.219\n",
            "Skew:                          -0.345   Prob(JB):                    3.67e-274\n",
            "Kurtosis:                       3.673   Cond. No.                         145.\n",
            "==============================================================================\n",
            "\n",
            "Warnings:\n",
            "[1] Standard Errors assume that the covariance matrix of the errors is correctly specified.\n"
          ],
          "name": "stdout"
        }
      ]
    },
    {
      "cell_type": "markdown",
      "metadata": {
        "id": "dLGe4RCP2r3d"
      },
      "source": [
        "**b) Statistically test any variable pairs with a correlation coefficient > |0.1| for its difference from 0 and report your result. Is the direction and significance of your finding as expected?**\n",
        "\n",
        "A: From the summary, it suggests that correlation between *hours_per_week* and *education_num* is significant since P>|t| = 0. It also tells us that as *hours_per_week* increases, *education_num* increases by 0.0309. Therefore, it's positively correlated and statistically significant as expected since we tend to think people who are more educated work more or have a higher chance to work overtime."
      ]
    },
    {
      "cell_type": "code",
      "metadata": {
        "colab": {
          "base_uri": "https://localhost:8080/"
        },
        "id": "OC7nVd475iVQ",
        "outputId": "43558cee-3aed-466b-fa22-5d44052c0c30"
      },
      "source": [
        "# Male education_num and age\n",
        "men = income94[income94.sex==' Male']\n",
        "corr = men[['age', 'education_num']].corr()\n",
        "reg = smf.ols('age ~ education_num', data = men).fit()\n",
        "print(corr)\n",
        "print(reg.summary())"
      ],
      "execution_count": 49,
      "outputs": [
        {
          "output_type": "stream",
          "text": [
            "                    age  education_num\n",
            "age            1.000000       0.060486\n",
            "education_num  0.060486       1.000000\n",
            "                            OLS Regression Results                            \n",
            "==============================================================================\n",
            "Dep. Variable:                    age   R-squared:                       0.004\n",
            "Model:                            OLS   Adj. R-squared:                  0.004\n",
            "Method:                 Least Squares   F-statistic:                     80.01\n",
            "Date:                Sun, 07 Feb 2021   Prob (F-statistic):           4.02e-19\n",
            "Time:                        23:55:15   Log-Likelihood:                -87381.\n",
            "No. Observations:               21790   AIC:                         1.748e+05\n",
            "Df Residuals:                   21788   BIC:                         1.748e+05\n",
            "Df Model:                           1                                         \n",
            "Covariance Type:            nonrobust                                         \n",
            "=================================================================================\n",
            "                    coef    std err          t      P>|t|      [0.025      0.975]\n",
            "---------------------------------------------------------------------------------\n",
            "Intercept        36.3649      0.355    102.499      0.000      35.670      37.060\n",
            "education_num     0.3037      0.034      8.945      0.000       0.237       0.370\n",
            "==============================================================================\n",
            "Omnibus:                     1006.180   Durbin-Watson:                   1.993\n",
            "Prob(Omnibus):                  0.000   Jarque-Bera (JB):             1147.399\n",
            "Skew:                           0.559   Prob(JB):                    7.00e-250\n",
            "Kurtosis:                       2.887   Cond. No.                         41.3\n",
            "==============================================================================\n",
            "\n",
            "Warnings:\n",
            "[1] Standard Errors assume that the covariance matrix of the errors is correctly specified.\n"
          ],
          "name": "stdout"
        }
      ]
    },
    {
      "cell_type": "code",
      "metadata": {
        "colab": {
          "base_uri": "https://localhost:8080/"
        },
        "id": "4PlSZb9c6Mgk",
        "outputId": "89580b13-fb84-485b-c6f1-c3d351eaf530"
      },
      "source": [
        "# Female education_num and age\n",
        "female = income94[income94.sex==' Female']\n",
        "corr = female[['age', 'education_num']].corr()\n",
        "reg = smf.ols('age ~ education_num', data = female).fit()\n",
        "print(corr)\n",
        "print(reg.summary())"
      ],
      "execution_count": 48,
      "outputs": [
        {
          "output_type": "stream",
          "text": [
            "                    age  education_num\n",
            "age            1.000000      -0.017899\n",
            "education_num -0.017899       1.000000\n",
            "                            OLS Regression Results                            \n",
            "==============================================================================\n",
            "Dep. Variable:                    age   R-squared:                       0.000\n",
            "Model:                            OLS   Adj. R-squared:                  0.000\n",
            "Method:                 Least Squares   F-statistic:                     3.451\n",
            "Date:                Sun, 07 Feb 2021   Prob (F-statistic):             0.0632\n",
            "Time:                        23:55:05   Log-Likelihood:                -43717.\n",
            "No. Observations:               10771   AIC:                         8.744e+04\n",
            "Df Residuals:                   10769   BIC:                         8.745e+04\n",
            "Df Model:                           1                                         \n",
            "Covariance Type:            nonrobust                                         \n",
            "=================================================================================\n",
            "                    coef    std err          t      P>|t|      [0.025      0.975]\n",
            "---------------------------------------------------------------------------------\n",
            "Intercept        37.9159      0.585     64.799      0.000      36.769      39.063\n",
            "education_num    -0.1054      0.057     -1.858      0.063      -0.217       0.006\n",
            "==============================================================================\n",
            "Omnibus:                      673.710   Durbin-Watson:                   2.008\n",
            "Prob(Omnibus):                  0.000   Jarque-Bera (JB):              805.058\n",
            "Skew:                           0.667   Prob(JB):                    1.53e-175\n",
            "Kurtosis:                       2.884   Cond. No.                         45.1\n",
            "==============================================================================\n",
            "\n",
            "Warnings:\n",
            "[1] Standard Errors assume that the covariance matrix of the errors is correctly specified.\n"
          ],
          "name": "stdout"
        }
      ]
    },
    {
      "cell_type": "markdown",
      "metadata": {
        "id": "scnWOtUq6Upv"
      },
      "source": [
        "**c) How does the correlation (and its significance) between education_num and age compare between male and female participants? Is this expected?**\n",
        "\n",
        "A: The correlation between *education_num* and *age* for male is 0.060486, positively correlated and statistically significant, however, the correlation for female is -0.017899, which is negatively correlated and not statistically significant. This is different from what I expected since I thought the correlation between education_num and age compare between male and female participants would be both positively correlated. "
      ]
    },
    {
      "cell_type": "code",
      "metadata": {
        "colab": {
          "base_uri": "https://localhost:8080/"
        },
        "id": "ojbEahbsDIbo",
        "outputId": "a432ce83-2d27-4d59-eccf-40d5868a012b"
      },
      "source": [
        "# Divided by the average weights since dividing by sum would make the covariance too small\n",
        "income94['weighted_hours'] = (income94.hours_per_week * income94.fnlwgt)/(income94.fnlwgt.mean())\n",
        "income94['weighted_education'] = (income94.education_num * income94.fnlwgt)/(income94.fnlwgt.mean())\n",
        "\n",
        "weighted_cov = income94[['weighted_hours', 'weighted_education']].cov()\n",
        "cov = income94[['hours_per_week', 'education_num']].cov()\n",
        "print(\"The unweighted covariance:\")\n",
        "print(cov)\n",
        "print(\"\\nThe weighted covariance:\")\n",
        "print(weighted_cov)"
      ],
      "execution_count": 78,
      "outputs": [
        {
          "output_type": "stream",
          "text": [
            "The unweighted covariance:\n",
            "                hours_per_week  education_num\n",
            "hours_per_week      152.458995       4.705338\n",
            "education_num         4.705338       6.618890\n",
            "\n",
            "The weighted covariance:\n",
            "                    weighted_hours  weighted_education\n",
            "weighted_hours          680.428037          126.580571\n",
            "weighted_education      126.580571           38.601177\n"
          ],
          "name": "stdout"
        }
      ]
    },
    {
      "cell_type": "markdown",
      "metadata": {
        "id": "8TTkgS3ZDLMq"
      },
      "source": [
        "**d) Compare the weighted vs unweighted variance and covariance between\n",
        "education_num and hourse_per_week. What do the changes in these values tell us about the weights in our data and who may be over/under represented?**\n",
        "\n",
        "A: From the above statistics, we see that the weighted variance and covariance between *education_num* and *hours_per_week* are both much higher than the unweighted variance and covariance. The weighted variance indicates that the variables are farther from the mean and the weighted covariance suggests that there is a stronger relationship between the variables. This implies that in this data, the smaller values with smaller weights are under-represented and larger values with larger weights are over-represented since the weights on the samples with smaller values are smaller and the weights on the samples with larger values are larger."
      ]
    },
    {
      "cell_type": "markdown",
      "metadata": {
        "id": "DsAz5CXJTDbY"
      },
      "source": [
        "# Regression"
      ]
    },
    {
      "cell_type": "code",
      "metadata": {
        "colab": {
          "base_uri": "https://localhost:8080/",
          "height": 297
        },
        "id": "ZZM5VAEPTFYS",
        "outputId": "7d47a4bc-697a-44c7-b00b-2b313352556f"
      },
      "source": [
        "# Linear regression with hours_per_week as the dependent variable and sex as the independent variable\n",
        "# Use binary: set male to 1 and female to 0\n",
        "income94['sex_bin'] = (income94.sex == \" Male\").astype(int)\n",
        "sns.regplot(x='sex_bin', y='hours_per_week', data=income94)"
      ],
      "execution_count": 89,
      "outputs": [
        {
          "output_type": "execute_result",
          "data": {
            "text/plain": [
              "<matplotlib.axes._subplots.AxesSubplot at 0x7f828a7a8d30>"
            ]
          },
          "metadata": {
            "tags": []
          },
          "execution_count": 89
        },
        {
          "output_type": "display_data",
          "data": {
            "image/png": "[encoded data removed]",
            "text/plain": [
              "<Figure size 432x288 with 1 Axes>"
            ]
          },
          "metadata": {
            "tags": [],
            "needs_background": "light"
          }
        }
      ]
    },
    {
      "cell_type": "code",
      "metadata": {
        "colab": {
          "base_uri": "https://localhost:8080/"
        },
        "id": "VOZG3sN1o15D",
        "outputId": "005f41ee-d64b-4d94-deb2-4b778cbbb11c"
      },
      "source": [
        "reg = smf.ols('hours_per_week ~ sex_bin', data = income94).fit()\n",
        "print(corr)\n",
        "print(reg.summary())"
      ],
      "execution_count": 91,
      "outputs": [
        {
          "output_type": "stream",
          "text": [
            "                    weighted_hours  weighted_education\n",
            "weighted_hours            1.000000            0.781044\n",
            "weighted_education        0.781044            1.000000\n",
            "                            OLS Regression Results                            \n",
            "==============================================================================\n",
            "Dep. Variable:         hours_per_week   R-squared:                       0.053\n",
            "Model:                            OLS   Adj. R-squared:                  0.053\n",
            "Method:                 Least Squares   F-statistic:                     1807.\n",
            "Date:                Mon, 08 Feb 2021   Prob (F-statistic):               0.00\n",
            "Time:                        03:32:36   Log-Likelihood:            -1.2716e+05\n",
            "No. Observations:               32561   AIC:                         2.543e+05\n",
            "Df Residuals:                   32559   BIC:                         2.543e+05\n",
            "Df Model:                           1                                         \n",
            "Covariance Type:            nonrobust                                         \n",
            "==============================================================================\n",
            "                 coef    std err          t      P>|t|      [0.025      0.975]\n",
            "------------------------------------------------------------------------------\n",
            "Intercept     36.4104      0.116    314.412      0.000      36.183      36.637\n",
            "sex_bin        6.0177      0.142     42.510      0.000       5.740       6.295\n",
            "==============================================================================\n",
            "Omnibus:                     2649.390   Durbin-Watson:                   2.019\n",
            "Prob(Omnibus):                  0.000   Jarque-Bera (JB):            13090.867\n",
            "Skew:                           0.239   Prob(JB):                         0.00\n",
            "Kurtosis:                       6.069   Cond. No.                         3.24\n",
            "==============================================================================\n",
            "\n",
            "Warnings:\n",
            "[1] Standard Errors assume that the covariance matrix of the errors is correctly specified.\n"
          ],
          "name": "stdout"
        }
      ]
    },
    {
      "cell_type": "markdown",
      "metadata": {
        "id": "7DBWsIHsoBfk"
      },
      "source": [
        "**a) Do men tend to work more hours?**\n",
        "\n",
        "A: Yes, it suggested by the plot and los summary: women tend to work 36.344 hours per week, where men tend to work 42.510 hours per week, which men tend to work 6.02 more hours."
      ]
    },
    {
      "cell_type": "code",
      "metadata": {
        "colab": {
          "base_uri": "https://localhost:8080/"
        },
        "id": "lXhKPNBwpQNJ",
        "outputId": "8eebe337-d96a-4022-e7df-d868bb3aa6bd"
      },
      "source": [
        "# Add control variable\n",
        "reg = smf.ols('hours_per_week ~ sex_bin + education_num', data = income94).fit()\n",
        "print(reg.summary())"
      ],
      "execution_count": 92,
      "outputs": [
        {
          "output_type": "stream",
          "text": [
            "                            OLS Regression Results                            \n",
            "==============================================================================\n",
            "Dep. Variable:         hours_per_week   R-squared:                       0.074\n",
            "Model:                            OLS   Adj. R-squared:                  0.074\n",
            "Method:                 Least Squares   F-statistic:                     1295.\n",
            "Date:                Mon, 08 Feb 2021   Prob (F-statistic):               0.00\n",
            "Time:                        03:33:26   Log-Likelihood:            -1.2680e+05\n",
            "No. Observations:               32561   AIC:                         2.536e+05\n",
            "Df Residuals:                   32558   BIC:                         2.536e+05\n",
            "Df Model:                           2                                         \n",
            "Covariance Type:            nonrobust                                         \n",
            "=================================================================================\n",
            "                    coef    std err          t      P>|t|      [0.025      0.975]\n",
            "---------------------------------------------------------------------------------\n",
            "Intercept        29.4106      0.281    104.556      0.000      28.859      29.962\n",
            "sex_bin           5.9709      0.140     42.653      0.000       5.697       6.245\n",
            "education_num     0.6975      0.026     27.244      0.000       0.647       0.748\n",
            "==============================================================================\n",
            "Omnibus:                     2783.881   Durbin-Watson:                   2.018\n",
            "Prob(Omnibus):                  0.000   Jarque-Bera (JB):            14492.060\n",
            "Skew:                           0.247   Prob(JB):                         0.00\n",
            "Kurtosis:                       6.231   Cond. No.                         45.6\n",
            "==============================================================================\n",
            "\n",
            "Warnings:\n",
            "[1] Standard Errors assume that the covariance matrix of the errors is correctly specified.\n"
          ],
          "name": "stdout"
        }
      ]
    },
    {
      "cell_type": "markdown",
      "metadata": {
        "id": "PZyiIIdkq96_"
      },
      "source": [
        "**b) Add education_num as a control variable, does the trend in hours worked by men vs women remain the same? Is education_num significant?**\n",
        "\n",
        "A: After adding education_num as a control variable, the trend in hours worked by men vs. women remain the same, but the number of hours worked by women is decreased to 29.41 hours per week, and the number of hours worked by men is decreased to 35.38 hours per week. Lastly, education_num is statistically significant. "
      ]
    },
    {
      "cell_type": "code",
      "metadata": {
        "colab": {
          "base_uri": "https://localhost:8080/"
        },
        "id": "nMZH8MEPzWLV",
        "outputId": "e235cbda-b73d-4bf7-8cc1-f9cf3426b534"
      },
      "source": [
        "# add gross_income_group as a binary variable\n",
        "# income <=50K as 0 and >50K as 1\n",
        "income94['income_bin'] = (income94.gross_income_group == \" >50K\").astype(int)\n",
        "reg = smf.ols('hours_per_week ~ sex_bin + education_num + income_bin', data = income94).fit()\n",
        "print(reg.summary())"
      ],
      "execution_count": 97,
      "outputs": [
        {
          "output_type": "stream",
          "text": [
            "                            OLS Regression Results                            \n",
            "==============================================================================\n",
            "Dep. Variable:         hours_per_week   R-squared:                       0.094\n",
            "Model:                            OLS   Adj. R-squared:                  0.094\n",
            "Method:                 Least Squares   F-statistic:                     1130.\n",
            "Date:                Mon, 08 Feb 2021   Prob (F-statistic):               0.00\n",
            "Time:                        04:04:58   Log-Likelihood:            -1.2643e+05\n",
            "No. Observations:               32561   AIC:                         2.529e+05\n",
            "Df Residuals:                   32557   BIC:                         2.529e+05\n",
            "Df Model:                           3                                         \n",
            "Covariance Type:            nonrobust                                         \n",
            "=================================================================================\n",
            "                    coef    std err          t      P>|t|      [0.025      0.975]\n",
            "---------------------------------------------------------------------------------\n",
            "Intercept        31.4218      0.288    109.184      0.000      30.858      31.986\n",
            "sex_bin           5.1010      0.142     35.907      0.000       4.823       5.379\n",
            "education_num     0.4478      0.027     16.632      0.000       0.395       0.501\n",
            "income_bin        4.5175      0.166     27.229      0.000       4.192       4.843\n",
            "==============================================================================\n",
            "Omnibus:                     2984.190   Durbin-Watson:                   2.015\n",
            "Prob(Omnibus):                  0.000   Jarque-Bera (JB):            15467.160\n",
            "Skew:                           0.296   Prob(JB):                         0.00\n",
            "Kurtosis:                       6.324   Cond. No.                         48.1\n",
            "==============================================================================\n",
            "\n",
            "Warnings:\n",
            "[1] Standard Errors assume that the covariance matrix of the errors is correctly specified.\n"
          ],
          "name": "stdout"
        }
      ]
    },
    {
      "cell_type": "markdown",
      "metadata": {
        "id": "r41c7uhUzIrN"
      },
      "source": [
        "**c) Now add gross_income_group as a binary variable in the model and compare the model with these 3 variables vs the models with 2 and 1 variable. What statistic would you choose to decide which model is the best? Describe how you could re-do what was just done using a model fitting procedure.**\n",
        "\n",
        "A: To decide which model is the best, I would choose to look at the R-squared value since it signifies the percentage variation in dependent that is explained by independent variables. Here, 5.3%, 7.4% and 9.4% variation in dependent are explained by 1, 2 and 3 independent variables respectively. \n",
        "\n",
        "I could re-do using a model fitting procedure by applying forward-selection regression. First, I would start with an empty model, add in variables one-by-one and add the one variable that gives the best improvement to the model. In other words, in each step, I would add in one variable that has the highest R-squared value."
      ]
    }
  ]
}